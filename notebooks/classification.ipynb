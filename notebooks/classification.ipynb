{
 "cells": [
  {
   "cell_type": "markdown",
   "id": "1c8ea515",
   "metadata": {},
   "source": [
    "# Classification Modelling — Airline Recommendation Prediction\n",
    "\n",
    "## 🎯 Objective\n",
    "**Research Question:**  \n",
    "> Given passengers’ service ratings and travel context, can we predict whether they would recommend the airline?\n",
    "\n",
    "**Goal:**  \n",
    "Build and evaluate machine learning models to classify passenger recommendations using cleaned review data."
   ]
  },
  {
   "cell_type": "code",
   "execution_count": 1,
   "id": "f1454a6f",
   "metadata": {},
   "outputs": [],
   "source": [
    "# Imports\n",
    "\n",
    "import numpy as np, pandas as pd\n",
    "from sklearn.model_selection import train_test_split, StratifiedKFold, GridSearchCV\n",
    "from sklearn.pipeline import Pipeline\n",
    "from sklearn.compose import ColumnTransformer\n",
    "from sklearn.impute import SimpleImputer\n",
    "from sklearn.preprocessing import OneHotEncoder, StandardScaler\n",
    "from sklearn.linear_model import LogisticRegression\n",
    "from sklearn.ensemble import RandomForestClassifier\n",
    "from xgboost import XGBClassifier\n",
    "from catboost import CatBoostClassifier\n",
    "from lightgbm import LGBMClassifier\n",
    "from sklearn.metrics import (classification_report, roc_auc_score, average_precision_score,\n",
    "                             accuracy_score, f1_score, ConfusionMatrixDisplay, RocCurveDisplay,  PrecisionRecallDisplay)\n",
    "import matplotlib.pyplot as plt"
   ]
  },
  {
   "cell_type": "markdown",
   "id": "3978c0af",
   "metadata": {},
   "source": [
    "### 1. Load and Prepare the Dataset"
   ]
  },
  {
   "cell_type": "code",
   "execution_count": 2,
   "id": "3be5d45c",
   "metadata": {},
   "outputs": [
    {
     "name": "stdout",
     "output_type": "stream",
     "text": [
      "<class 'pandas.core.frame.DataFrame'>\n",
      "RangeIndex: 125457 entries, 0 to 125456\n",
      "Data columns (total 10 columns):\n",
      " #   Column                  Non-Null Count   Dtype  \n",
      "---  ------                  --------------   -----  \n",
      " 0   SEAT_COMFORT            125457 non-null  float64\n",
      " 1   CABIN_STAFF_SERVICE     125457 non-null  float64\n",
      " 2   FOOD_AND_BEVERAGES      88429 non-null   float64\n",
      " 3   INFLIGHT_ENTERTAINMENT  70821 non-null   float64\n",
      " 4   GROUND_SERVICE          125457 non-null  float64\n",
      " 5   WIFI_AND_CONNECTIVITY   41138 non-null   float64\n",
      " 6   VALUE_FOR_MONEY         125457 non-null  float64\n",
      " 7   SEAT_TYPE               125457 non-null  object \n",
      " 8   TYPE_OF_TRAVELLER       125457 non-null  object \n",
      " 9   RECOMMENDED             125457 non-null  int64  \n",
      "dtypes: float64(7), int64(1), object(2)\n",
      "memory usage: 9.6+ MB\n"
     ]
    },
    {
     "data": {
      "text/html": [
       "<div>\n",
       "<style scoped>\n",
       "    .dataframe tbody tr th:only-of-type {\n",
       "        vertical-align: middle;\n",
       "    }\n",
       "\n",
       "    .dataframe tbody tr th {\n",
       "        vertical-align: top;\n",
       "    }\n",
       "\n",
       "    .dataframe thead th {\n",
       "        text-align: right;\n",
       "    }\n",
       "</style>\n",
       "<table border=\"1\" class=\"dataframe\">\n",
       "  <thead>\n",
       "    <tr style=\"text-align: right;\">\n",
       "      <th></th>\n",
       "      <th>SEAT_COMFORT</th>\n",
       "      <th>CABIN_STAFF_SERVICE</th>\n",
       "      <th>FOOD_AND_BEVERAGES</th>\n",
       "      <th>INFLIGHT_ENTERTAINMENT</th>\n",
       "      <th>GROUND_SERVICE</th>\n",
       "      <th>WIFI_AND_CONNECTIVITY</th>\n",
       "      <th>VALUE_FOR_MONEY</th>\n",
       "      <th>SEAT_TYPE</th>\n",
       "      <th>TYPE_OF_TRAVELLER</th>\n",
       "      <th>RECOMMENDED</th>\n",
       "    </tr>\n",
       "  </thead>\n",
       "  <tbody>\n",
       "    <tr>\n",
       "      <th>0</th>\n",
       "      <td>1.0</td>\n",
       "      <td>1.0</td>\n",
       "      <td>1.0</td>\n",
       "      <td>1.0</td>\n",
       "      <td>1.0</td>\n",
       "      <td>1.0</td>\n",
       "      <td>1.0</td>\n",
       "      <td>Economy Class</td>\n",
       "      <td>Couple Leisure</td>\n",
       "      <td>0</td>\n",
       "    </tr>\n",
       "    <tr>\n",
       "      <th>1</th>\n",
       "      <td>1.0</td>\n",
       "      <td>4.0</td>\n",
       "      <td>1.0</td>\n",
       "      <td>1.0</td>\n",
       "      <td>5.0</td>\n",
       "      <td>NaN</td>\n",
       "      <td>2.0</td>\n",
       "      <td>Economy Class</td>\n",
       "      <td>Couple Leisure</td>\n",
       "      <td>0</td>\n",
       "    </tr>\n",
       "    <tr>\n",
       "      <th>2</th>\n",
       "      <td>1.0</td>\n",
       "      <td>4.0</td>\n",
       "      <td>1.0</td>\n",
       "      <td>1.0</td>\n",
       "      <td>5.0</td>\n",
       "      <td>NaN</td>\n",
       "      <td>2.0</td>\n",
       "      <td>Economy Class</td>\n",
       "      <td>Couple Leisure</td>\n",
       "      <td>0</td>\n",
       "    </tr>\n",
       "    <tr>\n",
       "      <th>3</th>\n",
       "      <td>1.0</td>\n",
       "      <td>4.0</td>\n",
       "      <td>1.0</td>\n",
       "      <td>1.0</td>\n",
       "      <td>5.0</td>\n",
       "      <td>NaN</td>\n",
       "      <td>2.0</td>\n",
       "      <td>Economy Class</td>\n",
       "      <td>Couple Leisure</td>\n",
       "      <td>0</td>\n",
       "    </tr>\n",
       "    <tr>\n",
       "      <th>4</th>\n",
       "      <td>2.0</td>\n",
       "      <td>3.0</td>\n",
       "      <td>NaN</td>\n",
       "      <td>NaN</td>\n",
       "      <td>1.0</td>\n",
       "      <td>NaN</td>\n",
       "      <td>1.0</td>\n",
       "      <td>Economy Class</td>\n",
       "      <td>Family Leisure</td>\n",
       "      <td>0</td>\n",
       "    </tr>\n",
       "  </tbody>\n",
       "</table>\n",
       "</div>"
      ],
      "text/plain": [
       "   SEAT_COMFORT  CABIN_STAFF_SERVICE  FOOD_AND_BEVERAGES  \\\n",
       "0           1.0                  1.0                 1.0   \n",
       "1           1.0                  4.0                 1.0   \n",
       "2           1.0                  4.0                 1.0   \n",
       "3           1.0                  4.0                 1.0   \n",
       "4           2.0                  3.0                 NaN   \n",
       "\n",
       "   INFLIGHT_ENTERTAINMENT  GROUND_SERVICE  WIFI_AND_CONNECTIVITY  \\\n",
       "0                     1.0             1.0                    1.0   \n",
       "1                     1.0             5.0                    NaN   \n",
       "2                     1.0             5.0                    NaN   \n",
       "3                     1.0             5.0                    NaN   \n",
       "4                     NaN             1.0                    NaN   \n",
       "\n",
       "   VALUE_FOR_MONEY      SEAT_TYPE TYPE_OF_TRAVELLER  RECOMMENDED  \n",
       "0              1.0  Economy Class    Couple Leisure            0  \n",
       "1              2.0  Economy Class    Couple Leisure            0  \n",
       "2              2.0  Economy Class    Couple Leisure            0  \n",
       "3              2.0  Economy Class    Couple Leisure            0  \n",
       "4              1.0  Economy Class    Family Leisure            0  "
      ]
     },
     "execution_count": 2,
     "metadata": {},
     "output_type": "execute_result"
    }
   ],
   "source": [
    "# Load & select columns\n",
    "df = pd.read_csv('../data/cleaned_airline_reviews.csv')\n",
    "df_cls = df.drop(['AVERAGE_RATING','RATING_BAND','AIRLINE'], axis=1)\n",
    "y = df_cls['RECOMMENDED'].astype(int)\n",
    "X = df_cls.drop(columns=['RECOMMENDED'])\n",
    "\n",
    "cat_cols = [\"SEAT_TYPE\", \"TYPE_OF_TRAVELLER\"]\n",
    "num_cols = [c for c in X.columns if c not in cat_cols]\n",
    "\n",
    "# Quick check\n",
    "df_cls.info()\n",
    "df_cls.head()"
   ]
  },
  {
   "cell_type": "markdown",
   "id": "170e7a1e",
   "metadata": {},
   "source": [
    "### 2. Train test split"
   ]
  },
  {
   "cell_type": "code",
   "execution_count": 3,
   "id": "17b6e292",
   "metadata": {},
   "outputs": [
    {
     "data": {
      "text/plain": [
       "((100365, 9), (25092, 9))"
      ]
     },
     "execution_count": 3,
     "metadata": {},
     "output_type": "execute_result"
    }
   ],
   "source": [
    "# Train test split with stratification\n",
    "X_train, X_test, y_train, y_test = train_test_split(X, y, test_size=0.2, stratify=y, random_state=7)\n",
    "\n",
    "# Check shapes\n",
    "X_train.shape, X_test.shape"
   ]
  },
  {
   "cell_type": "markdown",
   "id": "6620a672",
   "metadata": {},
   "source": [
    "### 3. Preprocessing pipeline"
   ]
  },
  {
   "cell_type": "code",
   "execution_count": 4,
   "id": "20494c10",
   "metadata": {},
   "outputs": [],
   "source": [
    "# Pipeline setup\n",
    "\n",
    "num_pipe = Pipeline([\n",
    "    ('imputer', SimpleImputer(strategy='median')),\n",
    "    ('scaler', StandardScaler())\n",
    "])\n",
    "\n",
    "cat_pipe = Pipeline([\n",
    "    ('imputer', SimpleImputer(strategy='most_frequent')),\n",
    "    ('ohe', OneHotEncoder(handle_unknown='ignore'))\n",
    "])\n",
    "\n",
    "preprocess = ColumnTransformer([\n",
    "    ('num', num_pipe, num_cols),\n",
    "    ('cat', cat_pipe, cat_cols)\n",
    "])\n",
    "\n",
    "pipe = Pipeline([\n",
    "    ('prep', preprocess),\n",
    "    ('clf', LogisticRegression(max_iter=1000))\n",
    "])\n"
   ]
  },
  {
   "cell_type": "markdown",
   "id": "5f6317a2",
   "metadata": {},
   "source": [
    "### 4. Model Selection & Hyperparameter Tuning\n",
    "\n",
    "We compare Logistic Regression, Random Forest, and XGBoost using GridSearchCV with cross-validation and multiple evaluation metrics."
   ]
  },
  {
   "cell_type": "code",
   "execution_count": 5,
   "id": "5cb24497",
   "metadata": {},
   "outputs": [],
   "source": [
    "# Hyperparameter grid\n",
    "\n",
    "param_grid = [\n",
    "    {\n",
    "        'clf': [LogisticRegression(max_iter=1000, class_weight='balanced')],\n",
    "        'clf__C': [0.1, 1, 10]\n",
    "    },\n",
    "    {\n",
    "        'clf': [RandomForestClassifier(random_state=7)],\n",
    "        'clf__n_estimators': [200, 500],\n",
    "        'clf__max_depth': [None, 10, 20],\n",
    "        'clf__min_samples_leaf': [1, 3]\n",
    "    },\n",
    "    {\n",
    "        'clf': [XGBClassifier(\n",
    "            tree_method='hist', eval_metric='logloss', random_state=7, n_estimators=400\n",
    "        )],\n",
    "        'clf__max_depth': [3, 5]\n",
    "    },\n",
    "    {\n",
    "        'clf': [CatBoostClassifier(\n",
    "            random_state=7, verbose=0\n",
    "        )],\n",
    "        'clf__depth': [4, 6],\n",
    "        'clf__iterations': [400, 600]\n",
    "    },\n",
    "    {\n",
    "        'clf': [LGBMClassifier(\n",
    "            random_state=7\n",
    "        )],\n",
    "        'clf__num_leaves': [31, 50],\n",
    "        'clf__n_estimators': [400, 600]\n",
    "    }\n",
    "]\n"
   ]
  },
  {
   "cell_type": "code",
   "execution_count": 6,
   "id": "30e8cffb",
   "metadata": {},
   "outputs": [
    {
     "name": "stderr",
     "output_type": "stream",
     "text": [
      "/Users/tranmaiphuong/Documents/Airline Project/skytrax_review_ml_pipeline/venv/lib/python3.12/site-packages/joblib/externals/loky/process_executor.py:782: UserWarning: A worker stopped while some jobs were given to the executor. This can be caused by a too short worker timeout or by a memory leak.\n",
      "  warnings.warn(\n"
     ]
    },
    {
     "name": "stdout",
     "output_type": "stream",
     "text": [
      "[LightGBM] [Info] Number of positive: 26059, number of negative: 54233\n",
      "[LightGBM] [Info] Auto-choosing row-wise multi-threading, the overhead of testing was 0.003650 seconds.\n",
      "You can set `force_row_wise=true` to remove the overhead.\n",
      "And if memory is not enough, you can set `force_col_wise=true`.\n",
      "[LightGBM] [Info] Total Bins 58\n",
      "[LightGBM] [Info] Number of data points in the train set: 80292, number of used features: 15\n",
      "[LightGBM] [Info] [binary:BoostFromScore]: pavg=0.324553 -> initscore=-0.732926\n",
      "[LightGBM] [Info] Start training from score -0.732926\n"
     ]
    },
    {
     "name": "stderr",
     "output_type": "stream",
     "text": [
      "/Users/tranmaiphuong/Documents/Airline Project/skytrax_review_ml_pipeline/venv/lib/python3.12/site-packages/sklearn/utils/validation.py:2749: UserWarning: X does not have valid feature names, but LGBMClassifier was fitted with feature names\n",
      "  warnings.warn(\n",
      "/Users/tranmaiphuong/Documents/Airline Project/skytrax_review_ml_pipeline/venv/lib/python3.12/site-packages/sklearn/utils/validation.py:2749: UserWarning: X does not have valid feature names, but LGBMClassifier was fitted with feature names\n",
      "  warnings.warn(\n"
     ]
    },
    {
     "name": "stdout",
     "output_type": "stream",
     "text": [
      "[LightGBM] [Info] Number of positive: 26059, number of negative: 54233\n",
      "[LightGBM] [Info] Auto-choosing row-wise multi-threading, the overhead of testing was 0.003202 seconds.\n",
      "You can set `force_row_wise=true` to remove the overhead.\n",
      "And if memory is not enough, you can set `force_col_wise=true`.\n",
      "[LightGBM] [Info] Total Bins 58\n",
      "[LightGBM] [Info] Number of data points in the train set: 80292, number of used features: 15\n",
      "[LightGBM] [Info] [binary:BoostFromScore]: pavg=0.324553 -> initscore=-0.732926\n",
      "[LightGBM] [Info] Start training from score -0.732926\n",
      "[LightGBM] [Info] Number of positive: 26058, number of negative: 54234\n",
      "[LightGBM] [Info] Auto-choosing row-wise multi-threading, the overhead of testing was 0.003121 seconds.\n",
      "You can set `force_row_wise=true` to remove the overhead.\n",
      "And if memory is not enough, you can set `force_col_wise=true`.\n",
      "[LightGBM] [Info] Total Bins 58\n",
      "[LightGBM] [Info] Number of data points in the train set: 80292, number of used features: 15\n",
      "[LightGBM] [Info] [binary:BoostFromScore]: pavg=0.324540 -> initscore=-0.732983\n",
      "[LightGBM] [Info] Start training from score -0.732983\n"
     ]
    },
    {
     "name": "stderr",
     "output_type": "stream",
     "text": [
      "/Users/tranmaiphuong/Documents/Airline Project/skytrax_review_ml_pipeline/venv/lib/python3.12/site-packages/sklearn/utils/validation.py:2749: UserWarning: X does not have valid feature names, but LGBMClassifier was fitted with feature names\n",
      "  warnings.warn(\n",
      "/Users/tranmaiphuong/Documents/Airline Project/skytrax_review_ml_pipeline/venv/lib/python3.12/site-packages/sklearn/utils/validation.py:2749: UserWarning: X does not have valid feature names, but LGBMClassifier was fitted with feature names\n",
      "  warnings.warn(\n"
     ]
    },
    {
     "name": "stdout",
     "output_type": "stream",
     "text": [
      "[LightGBM] [Info] Number of positive: 26058, number of negative: 54234\n",
      "[LightGBM] [Info] Auto-choosing row-wise multi-threading, the overhead of testing was 0.005191 seconds.\n",
      "You can set `force_row_wise=true` to remove the overhead.\n",
      "And if memory is not enough, you can set `force_col_wise=true`.\n",
      "[LightGBM] [Info] Total Bins 58\n",
      "[LightGBM] [Info] Number of data points in the train set: 80292, number of used features: 15\n",
      "[LightGBM] [Info] [binary:BoostFromScore]: pavg=0.324540 -> initscore=-0.732983\n",
      "[LightGBM] [Info] Start training from score -0.732983\n",
      "[LightGBM] [Info] Number of positive: 26058, number of negative: 54234\n",
      "[LightGBM] [Info] Auto-choosing col-wise multi-threading, the overhead of testing was 0.014387 seconds.\n",
      "You can set `force_col_wise=true` to remove the overhead.\n",
      "[LightGBM] [Info] Total Bins 58\n",
      "[LightGBM] [Info] Number of data points in the train set: 80292, number of used features: 15\n",
      "[LightGBM] [Info] [binary:BoostFromScore]: pavg=0.324540 -> initscore=-0.732983\n",
      "[LightGBM] [Info] Start training from score -0.732983\n"
     ]
    },
    {
     "name": "stderr",
     "output_type": "stream",
     "text": [
      "/Users/tranmaiphuong/Documents/Airline Project/skytrax_review_ml_pipeline/venv/lib/python3.12/site-packages/sklearn/utils/validation.py:2749: UserWarning: X does not have valid feature names, but LGBMClassifier was fitted with feature names\n",
      "  warnings.warn(\n",
      "/Users/tranmaiphuong/Documents/Airline Project/skytrax_review_ml_pipeline/venv/lib/python3.12/site-packages/sklearn/utils/validation.py:2749: UserWarning: X does not have valid feature names, but LGBMClassifier was fitted with feature names\n",
      "  warnings.warn(\n"
     ]
    },
    {
     "name": "stdout",
     "output_type": "stream",
     "text": [
      "[LightGBM] [Info] Number of positive: 26059, number of negative: 54233\n",
      "[LightGBM] [Info] Auto-choosing col-wise multi-threading, the overhead of testing was 0.019987 seconds.\n",
      "You can set `force_col_wise=true` to remove the overhead.\n",
      "[LightGBM] [Info] Total Bins 58\n",
      "[LightGBM] [Info] Number of data points in the train set: 80292, number of used features: 15\n",
      "[LightGBM] [Info] [binary:BoostFromScore]: pavg=0.324553 -> initscore=-0.732926\n",
      "[LightGBM] [Info] Start training from score -0.732926\n"
     ]
    },
    {
     "name": "stderr",
     "output_type": "stream",
     "text": [
      "/Users/tranmaiphuong/Documents/Airline Project/skytrax_review_ml_pipeline/venv/lib/python3.12/site-packages/sklearn/utils/validation.py:2749: UserWarning: X does not have valid feature names, but LGBMClassifier was fitted with feature names\n",
      "  warnings.warn(\n",
      "/Users/tranmaiphuong/Documents/Airline Project/skytrax_review_ml_pipeline/venv/lib/python3.12/site-packages/sklearn/utils/validation.py:2749: UserWarning: X does not have valid feature names, but LGBMClassifier was fitted with feature names\n",
      "  warnings.warn(\n"
     ]
    },
    {
     "name": "stdout",
     "output_type": "stream",
     "text": [
      "[LightGBM] [Info] Number of positive: 26059, number of negative: 54233\n",
      "[LightGBM] [Info] Auto-choosing row-wise multi-threading, the overhead of testing was 0.003771 seconds.\n",
      "You can set `force_row_wise=true` to remove the overhead.\n",
      "And if memory is not enough, you can set `force_col_wise=true`.\n",
      "[LightGBM] [Info] Total Bins 58\n",
      "[LightGBM] [Info] Number of data points in the train set: 80292, number of used features: 15\n",
      "[LightGBM] [Info] [binary:BoostFromScore]: pavg=0.324553 -> initscore=-0.732926\n",
      "[LightGBM] [Info] Start training from score -0.732926\n"
     ]
    },
    {
     "name": "stderr",
     "output_type": "stream",
     "text": [
      "/Users/tranmaiphuong/Documents/Airline Project/skytrax_review_ml_pipeline/venv/lib/python3.12/site-packages/sklearn/utils/validation.py:2749: UserWarning: X does not have valid feature names, but LGBMClassifier was fitted with feature names\n",
      "  warnings.warn(\n",
      "/Users/tranmaiphuong/Documents/Airline Project/skytrax_review_ml_pipeline/venv/lib/python3.12/site-packages/sklearn/utils/validation.py:2749: UserWarning: X does not have valid feature names, but LGBMClassifier was fitted with feature names\n",
      "  warnings.warn(\n"
     ]
    },
    {
     "name": "stdout",
     "output_type": "stream",
     "text": [
      "[LightGBM] [Info] Number of positive: 26058, number of negative: 54234\n",
      "[LightGBM] [Info] Auto-choosing row-wise multi-threading, the overhead of testing was 0.006990 seconds.\n",
      "You can set `force_row_wise=true` to remove the overhead.\n",
      "And if memory is not enough, you can set `force_col_wise=true`.\n",
      "[LightGBM] [Info] Total Bins 58\n",
      "[LightGBM] [Info] Number of data points in the train set: 80292, number of used features: 15\n",
      "[LightGBM] [Info] [binary:BoostFromScore]: pavg=0.324540 -> initscore=-0.732983\n",
      "[LightGBM] [Info] Start training from score -0.732983\n",
      "[LightGBM] [Info] Number of positive: 26058, number of negative: 54234\n",
      "[LightGBM] [Info] Auto-choosing row-wise multi-threading, the overhead of testing was 0.003042 seconds.\n",
      "You can set `force_row_wise=true` to remove the overhead.\n",
      "And if memory is not enough, you can set `force_col_wise=true`.\n",
      "[LightGBM] [Info] Total Bins 58\n",
      "[LightGBM] [Info] Number of data points in the train set: 80292, number of used features: 15\n",
      "[LightGBM] [Info] [binary:BoostFromScore]: pavg=0.324540 -> initscore=-0.732983\n",
      "[LightGBM] [Info] Start training from score -0.732983\n",
      "[LightGBM] [Info] Number of positive: 26058, number of negative: 54234\n",
      "[LightGBM] [Info] Auto-choosing col-wise multi-threading, the overhead of testing was 0.008140 seconds.\n",
      "You can set `force_col_wise=true` to remove the overhead.\n",
      "[LightGBM] [Info] Total Bins 58\n",
      "[LightGBM] [Info] Number of data points in the train set: 80292, number of used features: 15\n",
      "[LightGBM] [Info] [binary:BoostFromScore]: pavg=0.324540 -> initscore=-0.732983\n",
      "[LightGBM] [Info] Start training from score -0.732983\n",
      "[LightGBM] [Info] Number of positive: 26059, number of negative: 54233\n",
      "[LightGBM] [Info] Auto-choosing row-wise multi-threading, the overhead of testing was 0.026029 seconds.\n",
      "You can set `force_row_wise=true` to remove the overhead.\n",
      "And if memory is not enough, you can set `force_col_wise=true`.\n",
      "[LightGBM] [Info] Total Bins 58\n",
      "[LightGBM] [Info] Number of data points in the train set: 80292, number of used features: 15\n",
      "[LightGBM] [Info] [binary:BoostFromScore]: pavg=0.324553 -> initscore=-0.732926\n",
      "[LightGBM] [Info] Start training from score -0.732926\n",
      "[LightGBM] [Info] Number of positive: 26059, number of negative: 54233\n",
      "[LightGBM] [Info] Auto-choosing row-wise multi-threading, the overhead of testing was 0.016481 seconds.\n",
      "You can set `force_row_wise=true` to remove the overhead.\n",
      "And if memory is not enough, you can set `force_col_wise=true`.\n",
      "[LightGBM] [Info] Total Bins 58\n",
      "[LightGBM] [Info] Number of data points in the train set: 80292, number of used features: 15\n",
      "[LightGBM] [Info] [binary:BoostFromScore]: pavg=0.324553 -> initscore=-0.732926\n",
      "[LightGBM] [Info] Start training from score -0.732926\n",
      "[LightGBM] [Info] Number of positive: 26058, number of negative: 54234\n",
      "[LightGBM] [Info] Auto-choosing row-wise multi-threading, the overhead of testing was 0.002951 seconds.\n",
      "You can set `force_row_wise=true` to remove the overhead.\n",
      "And if memory is not enough, you can set `force_col_wise=true`.\n",
      "[LightGBM] [Info] Total Bins 58\n",
      "[LightGBM] [Info] Number of data points in the train set: 80292, number of used features: 15\n",
      "[LightGBM] [Info] [binary:BoostFromScore]: pavg=0.324540 -> initscore=-0.732983\n",
      "[LightGBM] [Info] Start training from score -0.732983\n"
     ]
    },
    {
     "name": "stderr",
     "output_type": "stream",
     "text": [
      "/Users/tranmaiphuong/Documents/Airline Project/skytrax_review_ml_pipeline/venv/lib/python3.12/site-packages/sklearn/utils/validation.py:2749: UserWarning: X does not have valid feature names, but LGBMClassifier was fitted with feature names\n",
      "  warnings.warn(\n",
      "/Users/tranmaiphuong/Documents/Airline Project/skytrax_review_ml_pipeline/venv/lib/python3.12/site-packages/sklearn/utils/validation.py:2749: UserWarning: X does not have valid feature names, but LGBMClassifier was fitted with feature names\n",
      "  warnings.warn(\n"
     ]
    },
    {
     "name": "stdout",
     "output_type": "stream",
     "text": [
      "[LightGBM] [Info] Number of positive: 26058, number of negative: 54234\n",
      "[LightGBM] [Info] Auto-choosing col-wise multi-threading, the overhead of testing was 0.005771 seconds.\n",
      "You can set `force_col_wise=true` to remove the overhead.\n",
      "[LightGBM] [Info] Total Bins 58\n",
      "[LightGBM] [Info] Number of data points in the train set: 80292, number of used features: 15\n",
      "[LightGBM] [Info] [binary:BoostFromScore]: pavg=0.324540 -> initscore=-0.732983\n",
      "[LightGBM] [Info] Start training from score -0.732983\n"
     ]
    },
    {
     "name": "stderr",
     "output_type": "stream",
     "text": [
      "/Users/tranmaiphuong/Documents/Airline Project/skytrax_review_ml_pipeline/venv/lib/python3.12/site-packages/sklearn/utils/validation.py:2749: UserWarning: X does not have valid feature names, but LGBMClassifier was fitted with feature names\n",
      "  warnings.warn(\n",
      "/Users/tranmaiphuong/Documents/Airline Project/skytrax_review_ml_pipeline/venv/lib/python3.12/site-packages/sklearn/utils/validation.py:2749: UserWarning: X does not have valid feature names, but LGBMClassifier was fitted with feature names\n",
      "  warnings.warn(\n"
     ]
    },
    {
     "name": "stdout",
     "output_type": "stream",
     "text": [
      "[LightGBM] [Info] Number of positive: 26058, number of negative: 54234\n",
      "[LightGBM] [Info] Auto-choosing row-wise multi-threading, the overhead of testing was 0.003986 seconds.\n",
      "You can set `force_row_wise=true` to remove the overhead.\n",
      "And if memory is not enough, you can set `force_col_wise=true`.\n",
      "[LightGBM] [Info] Total Bins 58\n",
      "[LightGBM] [Info] Number of data points in the train set: 80292, number of used features: 15\n",
      "[LightGBM] [Info] [binary:BoostFromScore]: pavg=0.324540 -> initscore=-0.732983\n",
      "[LightGBM] [Info] Start training from score -0.732983\n"
     ]
    },
    {
     "name": "stderr",
     "output_type": "stream",
     "text": [
      "/Users/tranmaiphuong/Documents/Airline Project/skytrax_review_ml_pipeline/venv/lib/python3.12/site-packages/sklearn/utils/validation.py:2749: UserWarning: X does not have valid feature names, but LGBMClassifier was fitted with feature names\n",
      "  warnings.warn(\n",
      "/Users/tranmaiphuong/Documents/Airline Project/skytrax_review_ml_pipeline/venv/lib/python3.12/site-packages/sklearn/utils/validation.py:2749: UserWarning: X does not have valid feature names, but LGBMClassifier was fitted with feature names\n",
      "  warnings.warn(\n"
     ]
    },
    {
     "name": "stdout",
     "output_type": "stream",
     "text": [
      "[LightGBM] [Info] Number of positive: 26059, number of negative: 54233\n",
      "[LightGBM] [Info] Auto-choosing row-wise multi-threading, the overhead of testing was 0.032795 seconds.\n",
      "You can set `force_row_wise=true` to remove the overhead.\n",
      "And if memory is not enough, you can set `force_col_wise=true`.\n",
      "[LightGBM] [Info] Total Bins 58\n",
      "[LightGBM] [Info] Number of data points in the train set: 80292, number of used features: 15\n",
      "[LightGBM] [Info] [binary:BoostFromScore]: pavg=0.324553 -> initscore=-0.732926\n",
      "[LightGBM] [Info] Start training from score -0.732926\n"
     ]
    },
    {
     "name": "stderr",
     "output_type": "stream",
     "text": [
      "/Users/tranmaiphuong/Documents/Airline Project/skytrax_review_ml_pipeline/venv/lib/python3.12/site-packages/sklearn/utils/validation.py:2749: UserWarning: X does not have valid feature names, but LGBMClassifier was fitted with feature names\n",
      "  warnings.warn(\n",
      "/Users/tranmaiphuong/Documents/Airline Project/skytrax_review_ml_pipeline/venv/lib/python3.12/site-packages/sklearn/utils/validation.py:2749: UserWarning: X does not have valid feature names, but LGBMClassifier was fitted with feature names\n",
      "  warnings.warn(\n",
      "/Users/tranmaiphuong/Documents/Airline Project/skytrax_review_ml_pipeline/venv/lib/python3.12/site-packages/sklearn/utils/validation.py:2749: UserWarning: X does not have valid feature names, but LGBMClassifier was fitted with feature names\n",
      "  warnings.warn(\n",
      "/Users/tranmaiphuong/Documents/Airline Project/skytrax_review_ml_pipeline/venv/lib/python3.12/site-packages/sklearn/utils/validation.py:2749: UserWarning: X does not have valid feature names, but LGBMClassifier was fitted with feature names\n",
      "  warnings.warn(\n"
     ]
    },
    {
     "name": "stdout",
     "output_type": "stream",
     "text": [
      "[LightGBM] [Info] Number of positive: 26059, number of negative: 54233\n",
      "[LightGBM] [Info] Auto-choosing col-wise multi-threading, the overhead of testing was 0.009724 seconds.\n",
      "You can set `force_col_wise=true` to remove the overhead.\n",
      "[LightGBM] [Info] Total Bins 58\n",
      "[LightGBM] [Info] Number of data points in the train set: 80292, number of used features: 15\n",
      "[LightGBM] [Info] [binary:BoostFromScore]: pavg=0.324553 -> initscore=-0.732926\n",
      "[LightGBM] [Info] Start training from score -0.732926\n"
     ]
    },
    {
     "name": "stderr",
     "output_type": "stream",
     "text": [
      "/Users/tranmaiphuong/Documents/Airline Project/skytrax_review_ml_pipeline/venv/lib/python3.12/site-packages/sklearn/utils/validation.py:2749: UserWarning: X does not have valid feature names, but LGBMClassifier was fitted with feature names\n",
      "  warnings.warn(\n"
     ]
    },
    {
     "name": "stdout",
     "output_type": "stream",
     "text": [
      "[LightGBM] [Info] Number of positive: 26058, number of negative: 54234\n",
      "[LightGBM] [Info] Auto-choosing row-wise multi-threading, the overhead of testing was 0.264440 seconds.\n",
      "You can set `force_row_wise=true` to remove the overhead.\n",
      "And if memory is not enough, you can set `force_col_wise=true`.\n",
      "[LightGBM] [Info] Total Bins 58\n",
      "[LightGBM] [Info] Number of data points in the train set: 80292, number of used features: 15\n",
      "[LightGBM] [Info] [binary:BoostFromScore]: pavg=0.324540 -> initscore=-0.732983\n",
      "[LightGBM] [Info] Start training from score -0.732983\n"
     ]
    },
    {
     "name": "stderr",
     "output_type": "stream",
     "text": [
      "/Users/tranmaiphuong/Documents/Airline Project/skytrax_review_ml_pipeline/venv/lib/python3.12/site-packages/sklearn/utils/validation.py:2749: UserWarning: X does not have valid feature names, but LGBMClassifier was fitted with feature names\n",
      "  warnings.warn(\n"
     ]
    },
    {
     "name": "stdout",
     "output_type": "stream",
     "text": [
      "[LightGBM] [Info] Number of positive: 26058, number of negative: 54234\n",
      "[LightGBM] [Info] Auto-choosing row-wise multi-threading, the overhead of testing was 0.004562 seconds.\n",
      "You can set `force_row_wise=true` to remove the overhead.\n",
      "And if memory is not enough, you can set `force_col_wise=true`.\n",
      "[LightGBM] [Info] Total Bins 58\n",
      "[LightGBM] [Info] Number of data points in the train set: 80292, number of used features: 15\n",
      "[LightGBM] [Info] [binary:BoostFromScore]: pavg=0.324540 -> initscore=-0.732983\n",
      "[LightGBM] [Info] Start training from score -0.732983\n"
     ]
    },
    {
     "name": "stderr",
     "output_type": "stream",
     "text": [
      "/Users/tranmaiphuong/Documents/Airline Project/skytrax_review_ml_pipeline/venv/lib/python3.12/site-packages/sklearn/utils/validation.py:2749: UserWarning: X does not have valid feature names, but LGBMClassifier was fitted with feature names\n",
      "  warnings.warn(\n",
      "/Users/tranmaiphuong/Documents/Airline Project/skytrax_review_ml_pipeline/venv/lib/python3.12/site-packages/sklearn/utils/validation.py:2749: UserWarning: X does not have valid feature names, but LGBMClassifier was fitted with feature names\n",
      "  warnings.warn(\n",
      "/Users/tranmaiphuong/Documents/Airline Project/skytrax_review_ml_pipeline/venv/lib/python3.12/site-packages/sklearn/utils/validation.py:2749: UserWarning: X does not have valid feature names, but LGBMClassifier was fitted with feature names\n",
      "  warnings.warn(\n",
      "/Users/tranmaiphuong/Documents/Airline Project/skytrax_review_ml_pipeline/venv/lib/python3.12/site-packages/sklearn/utils/validation.py:2749: UserWarning: X does not have valid feature names, but LGBMClassifier was fitted with feature names\n",
      "  warnings.warn(\n"
     ]
    },
    {
     "name": "stdout",
     "output_type": "stream",
     "text": [
      "[LightGBM] [Info] Number of positive: 26058, number of negative: 54234\n",
      "[LightGBM] [Info] Auto-choosing row-wise multi-threading, the overhead of testing was 0.002391 seconds.\n",
      "You can set `force_row_wise=true` to remove the overhead.\n",
      "And if memory is not enough, you can set `force_col_wise=true`.\n",
      "[LightGBM] [Info] Total Bins 58\n",
      "[LightGBM] [Info] Number of data points in the train set: 80292, number of used features: 15\n",
      "[LightGBM] [Info] [binary:BoostFromScore]: pavg=0.324540 -> initscore=-0.732983\n",
      "[LightGBM] [Info] Start training from score -0.732983\n"
     ]
    },
    {
     "name": "stderr",
     "output_type": "stream",
     "text": [
      "/Users/tranmaiphuong/Documents/Airline Project/skytrax_review_ml_pipeline/venv/lib/python3.12/site-packages/sklearn/utils/validation.py:2749: UserWarning: X does not have valid feature names, but LGBMClassifier was fitted with feature names\n",
      "  warnings.warn(\n",
      "/Users/tranmaiphuong/Documents/Airline Project/skytrax_review_ml_pipeline/venv/lib/python3.12/site-packages/sklearn/utils/validation.py:2749: UserWarning: X does not have valid feature names, but LGBMClassifier was fitted with feature names\n",
      "  warnings.warn(\n",
      "/Users/tranmaiphuong/Documents/Airline Project/skytrax_review_ml_pipeline/venv/lib/python3.12/site-packages/sklearn/utils/validation.py:2749: UserWarning: X does not have valid feature names, but LGBMClassifier was fitted with feature names\n",
      "  warnings.warn(\n",
      "/Users/tranmaiphuong/Documents/Airline Project/skytrax_review_ml_pipeline/venv/lib/python3.12/site-packages/sklearn/utils/validation.py:2749: UserWarning: X does not have valid feature names, but LGBMClassifier was fitted with feature names\n",
      "  warnings.warn(\n",
      "/Users/tranmaiphuong/Documents/Airline Project/skytrax_review_ml_pipeline/venv/lib/python3.12/site-packages/sklearn/utils/validation.py:2749: UserWarning: X does not have valid feature names, but LGBMClassifier was fitted with feature names\n",
      "  warnings.warn(\n",
      "/Users/tranmaiphuong/Documents/Airline Project/skytrax_review_ml_pipeline/venv/lib/python3.12/site-packages/sklearn/utils/validation.py:2749: UserWarning: X does not have valid feature names, but LGBMClassifier was fitted with feature names\n",
      "  warnings.warn(\n",
      "/Users/tranmaiphuong/Documents/Airline Project/skytrax_review_ml_pipeline/venv/lib/python3.12/site-packages/sklearn/utils/validation.py:2749: UserWarning: X does not have valid feature names, but LGBMClassifier was fitted with feature names\n",
      "  warnings.warn(\n",
      "/Users/tranmaiphuong/Documents/Airline Project/skytrax_review_ml_pipeline/venv/lib/python3.12/site-packages/sklearn/utils/validation.py:2749: UserWarning: X does not have valid feature names, but LGBMClassifier was fitted with feature names\n",
      "  warnings.warn(\n",
      "/Users/tranmaiphuong/Documents/Airline Project/skytrax_review_ml_pipeline/venv/lib/python3.12/site-packages/sklearn/utils/validation.py:2749: UserWarning: X does not have valid feature names, but LGBMClassifier was fitted with feature names\n",
      "  warnings.warn(\n",
      "/Users/tranmaiphuong/Documents/Airline Project/skytrax_review_ml_pipeline/venv/lib/python3.12/site-packages/sklearn/utils/validation.py:2749: UserWarning: X does not have valid feature names, but LGBMClassifier was fitted with feature names\n",
      "  warnings.warn(\n",
      "/Users/tranmaiphuong/Documents/Airline Project/skytrax_review_ml_pipeline/venv/lib/python3.12/site-packages/sklearn/utils/validation.py:2749: UserWarning: X does not have valid feature names, but LGBMClassifier was fitted with feature names\n",
      "  warnings.warn(\n",
      "/Users/tranmaiphuong/Documents/Airline Project/skytrax_review_ml_pipeline/venv/lib/python3.12/site-packages/sklearn/utils/validation.py:2749: UserWarning: X does not have valid feature names, but LGBMClassifier was fitted with feature names\n",
      "  warnings.warn(\n",
      "/Users/tranmaiphuong/Documents/Airline Project/skytrax_review_ml_pipeline/venv/lib/python3.12/site-packages/sklearn/utils/validation.py:2749: UserWarning: X does not have valid feature names, but LGBMClassifier was fitted with feature names\n",
      "  warnings.warn(\n",
      "/Users/tranmaiphuong/Documents/Airline Project/skytrax_review_ml_pipeline/venv/lib/python3.12/site-packages/sklearn/utils/validation.py:2749: UserWarning: X does not have valid feature names, but LGBMClassifier was fitted with feature names\n",
      "  warnings.warn(\n"
     ]
    },
    {
     "name": "stdout",
     "output_type": "stream",
     "text": [
      "Best model: Pipeline(steps=[('prep',\n",
      "                 ColumnTransformer(transformers=[('num',\n",
      "                                                  Pipeline(steps=[('imputer',\n",
      "                                                                   SimpleImputer(strategy='median')),\n",
      "                                                                  ('scaler',\n",
      "                                                                   StandardScaler())]),\n",
      "                                                  ['SEAT_COMFORT',\n",
      "                                                   'CABIN_STAFF_SERVICE',\n",
      "                                                   'FOOD_AND_BEVERAGES',\n",
      "                                                   'INFLIGHT_ENTERTAINMENT',\n",
      "                                                   'GROUND_SERVICE',\n",
      "                                                   'WIFI_AND_CONNECTIVITY',\n",
      "                                                   'VALUE_FOR_MONEY']),\n",
      "                                                 ('cat',\n",
      "                                                  Pipeline(steps=[('imputer',\n",
      "                                                                   SimpleImputer(strategy='most_frequent')),\n",
      "                                                                  ('ohe',\n",
      "                                                                   OneHotEncoder(handle_unknown='ignore'))]),\n",
      "                                                  ['SEAT_TYPE',\n",
      "                                                   'TYPE_OF_TRAVELLER'])])),\n",
      "                ('clf',\n",
      "                 <catboost.core.CatBoostClassifier object at 0x12e2d4d70>)])\n",
      "Best hyperparameters: {'clf': <catboost.core.CatBoostClassifier object at 0x12d4c9040>, 'clf__depth': 4, 'clf__iterations': 600}\n",
      "CV (refit metric f1): 0.9274699484578891\n"
     ]
    }
   ],
   "source": [
    "# Run grid search\n",
    "\n",
    "cv = StratifiedKFold(n_splits=5, shuffle=True, random_state=7)\n",
    "scoring = {'f1':'f1', 'roc_auc':'roc_auc', 'ap':'average_precision', 'acc':'accuracy'}\n",
    "\n",
    "grid = GridSearchCV(pipe,\n",
    "                    param_grid,\n",
    "                    cv=cv,\n",
    "                    scoring=scoring,\n",
    "                    refit='f1',\n",
    "                    n_jobs=-1,\n",
    "                    return_train_score=False\n",
    ")\n",
    "grid.fit(X_train, y_train)\n",
    "\n",
    "print(\"Best model:\", grid.best_estimator_)\n",
    "print(\"Best hyperparameters:\", grid.best_params_)\n",
    "print(\"CV (refit metric f1):\", grid.best_score_)"
   ]
  },
  {
   "cell_type": "markdown",
   "id": "e92ddc0b",
   "metadata": {},
   "source": [
    "### 5. Cross-Validation Results"
   ]
  },
  {
   "cell_type": "code",
   "execution_count": 7,
   "id": "ecd42f10",
   "metadata": {},
   "outputs": [
    {
     "data": {
      "text/html": [
       "<div>\n",
       "<style scoped>\n",
       "    .dataframe tbody tr th:only-of-type {\n",
       "        vertical-align: middle;\n",
       "    }\n",
       "\n",
       "    .dataframe tbody tr th {\n",
       "        vertical-align: top;\n",
       "    }\n",
       "\n",
       "    .dataframe thead th {\n",
       "        text-align: right;\n",
       "    }\n",
       "</style>\n",
       "<table border=\"1\" class=\"dataframe\">\n",
       "  <thead>\n",
       "    <tr style=\"text-align: right;\">\n",
       "      <th></th>\n",
       "      <th>param_clf</th>\n",
       "      <th>mean_test_acc</th>\n",
       "      <th>mean_test_f1</th>\n",
       "      <th>mean_test_roc_auc</th>\n",
       "      <th>mean_test_ap</th>\n",
       "    </tr>\n",
       "  </thead>\n",
       "  <tbody>\n",
       "    <tr>\n",
       "      <th>18</th>\n",
       "      <td>&lt;catboost.core.CatBoostClassifier object at 0x...</td>\n",
       "      <td>0.953231</td>\n",
       "      <td>0.927470</td>\n",
       "      <td>0.987554</td>\n",
       "      <td>0.977401</td>\n",
       "    </tr>\n",
       "    <tr>\n",
       "      <th>17</th>\n",
       "      <td>&lt;catboost.core.CatBoostClassifier object at 0x...</td>\n",
       "      <td>0.953051</td>\n",
       "      <td>0.927235</td>\n",
       "      <td>0.987582</td>\n",
       "      <td>0.977375</td>\n",
       "    </tr>\n",
       "    <tr>\n",
       "      <th>14</th>\n",
       "      <td>RandomForestClassifier(random_state=7)</td>\n",
       "      <td>0.953051</td>\n",
       "      <td>0.927066</td>\n",
       "      <td>0.987308</td>\n",
       "      <td>0.977295</td>\n",
       "    </tr>\n",
       "    <tr>\n",
       "      <th>6</th>\n",
       "      <td>RandomForestClassifier(random_state=7)</td>\n",
       "      <td>0.952892</td>\n",
       "      <td>0.926834</td>\n",
       "      <td>0.987266</td>\n",
       "      <td>0.977215</td>\n",
       "    </tr>\n",
       "    <tr>\n",
       "      <th>13</th>\n",
       "      <td>RandomForestClassifier(random_state=7)</td>\n",
       "      <td>0.952812</td>\n",
       "      <td>0.926694</td>\n",
       "      <td>0.987276</td>\n",
       "      <td>0.977166</td>\n",
       "    </tr>\n",
       "  </tbody>\n",
       "</table>\n",
       "</div>"
      ],
      "text/plain": [
       "                                            param_clf  mean_test_acc  \\\n",
       "18  <catboost.core.CatBoostClassifier object at 0x...       0.953231   \n",
       "17  <catboost.core.CatBoostClassifier object at 0x...       0.953051   \n",
       "14             RandomForestClassifier(random_state=7)       0.953051   \n",
       "6              RandomForestClassifier(random_state=7)       0.952892   \n",
       "13             RandomForestClassifier(random_state=7)       0.952812   \n",
       "\n",
       "    mean_test_f1  mean_test_roc_auc  mean_test_ap  \n",
       "18      0.927470           0.987554      0.977401  \n",
       "17      0.927235           0.987582      0.977375  \n",
       "14      0.927066           0.987308      0.977295  \n",
       "6       0.926834           0.987266      0.977215  \n",
       "13      0.926694           0.987276      0.977166  "
      ]
     },
     "execution_count": 7,
     "metadata": {},
     "output_type": "execute_result"
    }
   ],
   "source": [
    "# Get cross-validation results\n",
    "\n",
    "full_grid = pd.DataFrame(grid.cv_results_)\n",
    "parms_to_show = ['param_clf', 'mean_test_acc', 'mean_test_f1', 'mean_test_roc_auc', 'mean_test_ap']\n",
    "grid_results = full_grid[parms_to_show]\n",
    "grid_results.sort_values('mean_test_acc', ascending=False).head(5)"
   ]
  },
  {
   "cell_type": "markdown",
   "id": "03496d90",
   "metadata": {},
   "source": [
    "Across all tested models, the CatBoost Classifier achieved the best overall balance of accuracy and generalization, with:\n",
    "* Accuracy: ≈ 0.95\n",
    "* F1-score: ≈ 0.93\n",
    "* ROC AUC: ≈ 0.99\n",
    "* Average Precision: ≈ 0.98\n",
    "However, the Random Forest Classifier came in a very close second, showing nearly identical performance across all metrics — only marginally lower (by less than 0.0003 in accuracy and 0.0005 in F1-score). This suggests that while CatBoost provided a slight edge in predictive power, Random Forest remained highly competitive and may still be preferable in contexts favoring simpler interpretability or faster training time."
   ]
  },
  {
   "cell_type": "markdown",
   "id": "5ffa0a56",
   "metadata": {},
   "source": [
    "### 6. Evaluate Best Model on Test Set"
   ]
  },
  {
   "cell_type": "code",
   "execution_count": 8,
   "id": "8f232e99",
   "metadata": {},
   "outputs": [
    {
     "name": "stdout",
     "output_type": "stream",
     "text": [
      "\n",
      "Test metrics\n",
      "Accuracy: 0.9558823529411765\n",
      "F1: 0.9315525876460768\n",
      "ROC AUC: 0.9889283651298111\n",
      "Average Precision: 0.9790652748935086\n",
      "\n",
      "Classification report:\n",
      "               precision    recall  f1-score   support\n",
      "\n",
      "           0       0.96      0.97      0.97     16948\n",
      "           1       0.94      0.92      0.93      8144\n",
      "\n",
      "    accuracy                           0.96     25092\n",
      "   macro avg       0.95      0.95      0.95     25092\n",
      "weighted avg       0.96      0.96      0.96     25092\n",
      "\n"
     ]
    }
   ],
   "source": [
    "# Evaluate test set\n",
    "best = grid.best_estimator_\n",
    "y_pred = best.predict(X_test)\n",
    "y_proba = best.predict_proba(X_test)[:,1] if hasattr(best, \"predict_proba\") else None\n",
    "\n",
    "print(\"\\nTest metrics\")\n",
    "print(\"Accuracy:\", accuracy_score(y_test, y_pred))\n",
    "print(\"F1:\", f1_score(y_test, y_pred))\n",
    "if y_proba is not None:\n",
    "    print(\"ROC AUC:\", roc_auc_score(y_test, y_proba))\n",
    "    print(\"Average Precision:\", average_precision_score(y_test, y_proba))\n",
    "print(\"\\nClassification report:\\n\", classification_report(y_test, y_pred))"
   ]
  },
  {
   "cell_type": "markdown",
   "id": "80f00fef",
   "metadata": {},
   "source": [
    "### 7. Model Evaluation Visualizations"
   ]
  },
  {
   "cell_type": "code",
   "execution_count": 9,
   "id": "3daadf9e",
   "metadata": {},
   "outputs": [
    {
     "data": {
      "image/png": "[encoded data removed]",
      "text/plain": [
       "<Figure size 640x480 with 2 Axes>"
      ]
     },
     "metadata": {},
     "output_type": "display_data"
    }
   ],
   "source": [
    "# Confusion matrix\n",
    "\n",
    "ConfusionMatrixDisplay.from_estimator(best, X_test, y_test)\n",
    "plt.title(\"Confusion Matrix - CatBoost Model Performance\")\n",
    "plt.show()"
   ]
  },
  {
   "cell_type": "markdown",
   "id": "a4708c1f",
   "metadata": {},
   "source": [
    "The confusion matrix shows that the model correctly classified the vast majority of both positive and negative cases.\n",
    "Out of all passengers, only a small portion were misclassified (530 false positives and 645 false negatives), confirming balanced performance.\n",
    "This means the model rarely mistakes dissatisfied customers for satisfied ones or vice versa — a sign of reliable and consistent prediction quality."
   ]
  },
  {
   "cell_type": "code",
   "execution_count": 10,
   "id": "83c6dfee",
   "metadata": {},
   "outputs": [
    {
     "data": {
      "image/png": "[encoded data removed]",
      "text/plain": [
       "<Figure size 640x480 with 1 Axes>"
      ]
     },
     "metadata": {},
     "output_type": "display_data"
    }
   ],
   "source": [
    "# ROC curve\n",
    "RocCurveDisplay.from_estimator(best, X_test, y_test)\n",
    "plt.title(\"ROC Curve — CatBoost Model Discrimination Ability\")\n",
    "plt.show()\n"
   ]
  },
  {
   "cell_type": "markdown",
   "id": "ec28c7ff",
   "metadata": {},
   "source": [
    "The ROC curve demonstrates that the model can distinguish between recommending and not recommending passengers extremely well, with an AUC of 0.99.\n",
    "The curve’s closeness to the top-left corner indicates a very high true-positive rate and low false-positive rate across thresholds.\n",
    "In business terms, the model is highly effective at separating promoters from non-promoters, supporting confident decision-making."
   ]
  },
  {
   "cell_type": "code",
   "execution_count": 11,
   "id": "f9372997",
   "metadata": {},
   "outputs": [
    {
     "data": {
      "image/png": "[encoded data removed]",
      "text/plain": [
       "<Figure size 640x480 with 1 Axes>"
      ]
     },
     "metadata": {},
     "output_type": "display_data"
    }
   ],
   "source": [
    "# Precision-Recall curve\n",
    "PrecisionRecallDisplay.from_estimator(best, X_test, y_test)\n",
    "plt.title(\"Precision–Recall Curve - CatBoost Model Performance\")\n",
    "plt.show()"
   ]
  },
  {
   "cell_type": "markdown",
   "id": "3e6abd60",
   "metadata": {},
   "source": [
    "The model maintains high precision and recall (AP = 0.98), indicating it captures most positive recommendations while keeping false alarms low — balancing the precision–recall tradeoff effectively."
   ]
  },
  {
   "cell_type": "markdown",
   "id": "8dad86f5",
   "metadata": {},
   "source": [
    "### 8. Feature Importance (Business Insight)"
   ]
  },
  {
   "cell_type": "code",
   "execution_count": 12,
   "id": "966e9001",
   "metadata": {},
   "outputs": [
    {
     "data": {
      "image/png": "[encoded data removed]",
      "text/plain": [
       "<Figure size 1000x500 with 1 Axes>"
      ]
     },
     "metadata": {},
     "output_type": "display_data"
    }
   ],
   "source": [
    "# Visualize feature importances\n",
    "best_model = grid.best_estimator_.named_steps['clf']\n",
    "ohe = grid.best_estimator_.named_steps['prep'].named_transformers_['cat'].named_steps['ohe']\n",
    "\n",
    "# Get feature names after encoding\n",
    "cat_features = ohe.get_feature_names_out(cat_cols)\n",
    "all_features = np.concatenate([num_cols, cat_features])\n",
    "\n",
    "# Create dataframe\n",
    "fi = pd.DataFrame({\n",
    "    'Feature': all_features,\n",
    "    'Importance': best_model.feature_importances_\n",
    "}).sort_values('Importance', ascending=False)\n",
    "\n",
    "# Plot top 10\n",
    "plt.figure(figsize=(10,5))\n",
    "plt.barh(fi['Feature'][:10][::-1], fi['Importance'][:10][::-1])\n",
    "plt.title(\"Top 10 Most Important Features (CatBoost Model)\")\n",
    "plt.xlabel(\"Feature Importance\")\n",
    "plt.tight_layout()\n",
    "plt.show()"
   ]
  },
  {
   "cell_type": "markdown",
   "id": "d364f39b",
   "metadata": {},
   "source": [
    "The model shows that “Value for Money” has the greatest influence on passenger recommendations, followed by Cabin Staff Service, Ground Service, and Seat Comfort. This indicates that travelers care most about getting quality service for what they pay, as well as comfort and staff professionalism. Focusing on these areas can most effectively improve customer satisfaction and loyalty."
   ]
  },
  {
   "cell_type": "markdown",
   "id": "22369d60",
   "metadata": {},
   "source": [
    "### 9. Conclusion\n",
    "\n",
    "The goal was to predict whether passengers would recommend an airline based on their service ratings and travel context. After comparing Logistic Regression, Random Forest, XGBoost, CatBoost, and LightBM using a unified preprocessing and cross-validation pipeline, the CatBoost Classifier achieved the best results.\n",
    "\n",
    "It delivered strong performance with a CV F1-score of 0.93, accuracy of 0.95, and ROC AUC of 0.99. On the test set, performance remained consistent (Accuracy: 0.95, F1: 0.93, ROC AUC: 0.99), indicating minimal overfitting.\n",
    "\n",
    "The confusion matrix shows balanced precision and recall across classes, confirming reliable predictions. Overall, the CatBoost model effectively captures key service factors influencing passenger recommendations and demonstrates excellent generalization."
   ]
  }
 ],
 "metadata": {
  "kernelspec": {
   "display_name": "venv",
   "language": "python",
   "name": "python3"
  },
  "language_info": {
   "codemirror_mode": {
    "name": "ipython",
    "version": 3
   },
   "file_extension": ".py",
   "mimetype": "text/x-python",
   "name": "python",
   "nbconvert_exporter": "python",
   "pygments_lexer": "ipython3",
   "version": "3.12.0"
  }
 },
 "nbformat": 4,
 "nbformat_minor": 5
}
